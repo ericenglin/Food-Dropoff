{
 "cells": [
  {
   "cell_type": "code",
   "execution_count": null,
   "metadata": {},
   "outputs": [],
   "source": [
    "from assignment_scripts import cleaning, geocode, neighborhood_clean, run_kmeans, find_cambridge_addresses, add_dummies\n",
    "\n",
    "\n",
    "\n",
    "import pandas as pd\n",
    "import geopandas\n",
    "from geopy.geocoders import Nominatim\n",
    "from geopy.extra.rate_limiter import RateLimiter\n",
    "import numpy as np\n",
    "import geopandas\n",
    "from datetime import date, timedelta\n",
    "import warnings\n",
    "warnings.filterwarnings(\"ignore\")\n",
    "\n",
    "number_drivers = 45\n",
    "\n"
   ]
  },
  {
   "cell_type": "code",
   "execution_count": null,
   "metadata": {},
   "outputs": [],
   "source": [
    "tomorrow = date.today()+ timedelta(days=1)\n",
    "tomorrow = tomorrow.strftime(\"%m_%d\")\n",
    "\n",
    "filename ='./data/' + str(tomorrow) + \"_deliveries.csv\"\n",
    "df = pd.read_csv(filename)\n",
    "good_points = pd.read_csv(\"point_table.csv\")\n",
    "\n",
    "smaller_df = good_points[['ADDRESS','location', 'point', \n",
    "                          'latitude', 'longitude','altitude', \n",
    "                          'point_location']].drop_duplicates()\n",
    "\n",
    "\n",
    "\n"
   ]
  },
  {
   "cell_type": "code",
   "execution_count": null,
   "metadata": {},
   "outputs": [],
   "source": [
    "df = cleaning(df)"
   ]
  },
  {
   "cell_type": "code",
   "execution_count": null,
   "metadata": {},
   "outputs": [],
   "source": [
    "point_table= df.merge(smaller_df,on = ['ADDRESS'],how='left')\n",
    "bad_table = point_table.loc[point_table['point'].isnull()]\n",
    "good_table = point_table.dropna(subset=['point'], how='all')\n",
    "geocoded_table, null_table = geocode(bad_table)\n",
    "print(\"Number of addresses not found: \" + str(len(null_table)))\n"
   ]
  },
  {
   "cell_type": "code",
   "execution_count": null,
   "metadata": {},
   "outputs": [],
   "source": [
    "\n",
    "df_new = pd.concat([good_table,geocoded_table])\n",
    "\n",
    "df_new = df_new.reset_index()\n",
    "df_new = find_cambridge_addresses(df_new)\n",
    "print(\"Number of non-Cambridge addresses:\" + str(len(df_new.loc[df_new['NAME'].isnull()])))\n"
   ]
  },
  {
   "cell_type": "code",
   "execution_count": null,
   "metadata": {},
   "outputs": [],
   "source": [
    "null_table = pd.concat([null_table,df_new.loc[df_new['NAME'].isnull()]])\n",
    "df_new = df_new.dropna(subset=['NAME'], how='all')\n",
    "df_new['neighborhood']=neighborhood_clean(df_new)\n",
    "df_new = add_dummies(df_new)\n",
    "\n",
    "df_new = df_new.sort_values(['Senior'])\n",
    "df_seniors = df_new.loc[df_new['Senior']==1]\n",
    "df_nonseniors = df_new.loc[df_new['Senior']!=1]\n",
    "senior_clusters = int(round(len(df_seniors)/10,0))\n",
    "nonsenior_clusters = number_drivers - senior_clusters\n",
    "\n",
    "df_senior_labels = run_kmeans(df_seniors, int(senior_clusters),9,12)\n",
    "df_nonsenior_labels = run_kmeans(df_nonseniors, int(nonsenior_clusters),9,12)\n",
    "df_nonsenior_labels = df_nonsenior_labels + senior_clusters\n",
    "\n",
    "all_labels = np.concatenate([df_nonsenior_labels, df_senior_labels])\n",
    "df_new['kmeans_cluster'] = all_labels\n",
    "\n",
    "df_new['Driver_ID']=df_new['kmeans_cluster']\n",
    "null_table['Driver_ID']=99\n",
    "\n",
    "driver_table_final = pd.concat([null_table,df_new])\n",
    "driver_table_final=driver_table_final[['ID','First Name', 'Last Name',\n",
    "                                        'Street #','Street Name','Apt #',\n",
    "                                        'Driver_ID', 'New','Gift Card','Senior','Phone',\n",
    "                                        'Notes','ADDRESS','location','latitude','longitude']].sort_values(by = ['Driver_ID', 'Street Name', \n",
    "                                                       'Street #', 'Apt #'],ascending=False)\n",
    "\n",
    "file_name_final = \"./delivery routes/Driver_Table_\" + str(tomorrow) + \".xlsx\"\n",
    "driver_table_final.to_excel(file_name_final, index=False)\n"
   ]
  },
  {
   "cell_type": "code",
   "execution_count": null,
   "metadata": {},
   "outputs": [],
   "source": []
  }
 ],
 "metadata": {
  "kernelspec": {
   "display_name": "Python 3",
   "language": "python",
   "name": "python3"
  },
  "language_info": {
   "codemirror_mode": {
    "name": "ipython",
    "version": 3
   },
   "file_extension": ".py",
   "mimetype": "text/x-python",
   "name": "python",
   "nbconvert_exporter": "python",
   "pygments_lexer": "ipython3",
   "version": "3.7.4"
  }
 },
 "nbformat": 4,
 "nbformat_minor": 2
}
